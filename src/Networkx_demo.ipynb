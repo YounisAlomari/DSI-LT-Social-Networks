{
 "cells": [
  {
   "cell_type": "code",
   "execution_count": 1,
   "metadata": {},
   "outputs": [
    {
     "name": "stdout",
     "output_type": "stream",
     "text": [
      "Requirement already satisfied: networkx[default] in c:\\users\\walht\\appdata\\local\\programs\\python\\python310\\lib\\site-packages (2.8.5)\n",
      "Requirement already satisfied: pandas>=1.3 in c:\\users\\walht\\appdata\\local\\programs\\python\\python310\\lib\\site-packages (from networkx[default]) (1.4.3)\n",
      "Requirement already satisfied: numpy>=1.19 in c:\\users\\walht\\appdata\\local\\programs\\python\\python310\\lib\\site-packages (from networkx[default]) (1.23.0)\n",
      "Requirement already satisfied: matplotlib>=3.4 in c:\\users\\walht\\appdata\\local\\programs\\python\\python310\\lib\\site-packages (from networkx[default]) (3.5.2)\n",
      "Requirement already satisfied: scipy>=1.8 in c:\\users\\walht\\appdata\\local\\programs\\python\\python310\\lib\\site-packages (from networkx[default]) (1.8.1)\n",
      "Requirement already satisfied: fonttools>=4.22.0 in c:\\users\\walht\\appdata\\local\\programs\\python\\python310\\lib\\site-packages (from matplotlib>=3.4->networkx[default]) (4.33.3)\n",
      "Requirement already satisfied: python-dateutil>=2.7 in c:\\users\\walht\\appdata\\local\\programs\\python\\python310\\lib\\site-packages (from matplotlib>=3.4->networkx[default]) (2.8.2)\n",
      "Requirement already satisfied: kiwisolver>=1.0.1 in c:\\users\\walht\\appdata\\local\\programs\\python\\python310\\lib\\site-packages (from matplotlib>=3.4->networkx[default]) (1.4.3)\n",
      "Requirement already satisfied: pillow>=6.2.0 in c:\\users\\walht\\appdata\\local\\programs\\python\\python310\\lib\\site-packages (from matplotlib>=3.4->networkx[default]) (9.1.1)\n",
      "Requirement already satisfied: cycler>=0.10 in c:\\users\\walht\\appdata\\local\\programs\\python\\python310\\lib\\site-packages (from matplotlib>=3.4->networkx[default]) (0.11.0)\n",
      "Requirement already satisfied: pyparsing>=2.2.1 in c:\\users\\walht\\appdata\\local\\programs\\python\\python310\\lib\\site-packages (from matplotlib>=3.4->networkx[default]) (3.0.9)\n",
      "Requirement already satisfied: packaging>=20.0 in c:\\users\\walht\\appdata\\local\\programs\\python\\python310\\lib\\site-packages (from matplotlib>=3.4->networkx[default]) (21.3)\n",
      "Requirement already satisfied: pytz>=2020.1 in c:\\users\\walht\\appdata\\local\\programs\\python\\python310\\lib\\site-packages (from pandas>=1.3->networkx[default]) (2022.1)\n",
      "Requirement already satisfied: six>=1.5 in c:\\users\\walht\\appdata\\local\\programs\\python\\python310\\lib\\site-packages (from python-dateutil>=2.7->matplotlib>=3.4->networkx[default]) (1.16.0)\n"
     ]
    },
    {
     "name": "stderr",
     "output_type": "stream",
     "text": [
      "WARNING: You are using pip version 22.0.4; however, version 22.2.2 is available.\n",
      "You should consider upgrading via the 'C:\\Users\\walht\\AppData\\Local\\Programs\\Python\\Python310\\python.exe -m pip install --upgrade pip' command.\n"
     ]
    }
   ],
   "source": [
    "!pip install networkx[default]"
   ]
  },
  {
   "cell_type": "code",
   "execution_count": 5,
   "metadata": {},
   "outputs": [
    {
     "data": {
      "image/png": "[encoded data removed]",
      "text/plain": [
       "<Figure size 432x288 with 1 Axes>"
      ]
     },
     "metadata": {},
     "output_type": "display_data"
    }
   ],
   "source": [
    "import networkx as nx\n",
    "import numpy as np\n",
    "import pandas as pd\n",
    "%matplotlib inline\n",
    "\n",
    "# Instantiate the graph\n",
    "G1 = nx.Graph()\n",
    "# add node/edge pairs\n",
    "G1.add_edges_from([(0, 1),\n",
    "                   (0, 2),\n",
    "                   (0, 3),\n",
    "                   (0, 5),\n",
    "                   (1, 3),\n",
    "                   (1, 6),\n",
    "                   (3, 4),\n",
    "                   (4, 5),\n",
    "                   (4, 7),\n",
    "                   (5, 8),\n",
    "                   (8, 9)])\n",
    "\n",
    "# draw the network G1\n",
    "nx.draw_networkx(G1)"
   ]
  },
  {
   "cell_type": "code",
   "execution_count": 6,
   "metadata": {},
   "outputs": [
    {
     "data": {
      "text/plain": [
       "{0: 0.4444444444444444,\n",
       " 1: 0.3333333333333333,\n",
       " 2: 0.1111111111111111,\n",
       " 3: 0.3333333333333333,\n",
       " 5: 0.3333333333333333,\n",
       " 6: 0.1111111111111111,\n",
       " 4: 0.3333333333333333,\n",
       " 7: 0.1111111111111111,\n",
       " 8: 0.2222222222222222,\n",
       " 9: 0.1111111111111111}"
      ]
     },
     "execution_count": 6,
     "metadata": {},
     "output_type": "execute_result"
    }
   ],
   "source": [
    "nx.degree_centrality(G1)"
   ]
  },
  {
   "cell_type": "code",
   "execution_count": 7,
   "metadata": {},
   "outputs": [
    {
     "data": {
      "text/plain": [
       "{0: 0.5625,\n",
       " 1: 0.47368421052631576,\n",
       " 2: 0.375,\n",
       " 3: 0.5,\n",
       " 5: 0.5625,\n",
       " 6: 0.3333333333333333,\n",
       " 4: 0.5,\n",
       " 7: 0.34615384615384615,\n",
       " 8: 0.4090909090909091,\n",
       " 9: 0.3}"
      ]
     },
     "execution_count": 7,
     "metadata": {},
     "output_type": "execute_result"
    }
   ],
   "source": [
    "nx.closeness_centrality(G1)"
   ]
  },
  {
   "cell_type": "code",
   "execution_count": 9,
   "metadata": {},
   "outputs": [
    {
     "data": {
      "text/plain": [
       "{0: 0.4305555555555555,\n",
       " 1: 0.2222222222222222,\n",
       " 2: 0.0,\n",
       " 3: 0.16666666666666666,\n",
       " 5: 0.4444444444444444,\n",
       " 6: 0.0,\n",
       " 4: 0.2638888888888889,\n",
       " 7: 0.0,\n",
       " 8: 0.2222222222222222,\n",
       " 9: 0.0}"
      ]
     },
     "execution_count": 9,
     "metadata": {},
     "output_type": "execute_result"
    }
   ],
   "source": [
    "nx.betweenness_centrality(G1)"
   ]
  },
  {
   "cell_type": "code",
   "execution_count": 8,
   "metadata": {},
   "outputs": [
    {
     "data": {
      "text/plain": [
       "{0: 0.5163311132778224,\n",
       " 1: 0.4078111673710816,\n",
       " 2: 0.18721071680314055,\n",
       " 3: 0.46055890971297436,\n",
       " 5: 0.3684701926326299,\n",
       " 6: 0.14786314470285283,\n",
       " 4: 0.34608812874643013,\n",
       " 7: 0.12548504820698178,\n",
       " 8: 0.15382393197189428,\n",
       " 9: 0.05577442762250839}"
      ]
     },
     "execution_count": 8,
     "metadata": {},
     "output_type": "execute_result"
    }
   ],
   "source": [
    "nx.eigenvector_centrality(G1)"
   ]
  },
  {
   "cell_type": "code",
   "execution_count": 4,
   "metadata": {},
   "outputs": [
    {
     "data": {
      "text/plain": [
       "array([[0, 1, 1, 1, 0, 1, 0, 0, 0, 0],\n",
       "       [1, 0, 0, 1, 0, 0, 1, 0, 0, 0],\n",
       "       [1, 0, 0, 0, 0, 0, 0, 0, 0, 0],\n",
       "       [1, 1, 0, 0, 1, 0, 0, 0, 0, 0],\n",
       "       [0, 0, 0, 1, 0, 1, 0, 1, 0, 0],\n",
       "       [1, 0, 0, 0, 1, 0, 0, 0, 1, 0],\n",
       "       [0, 1, 0, 0, 0, 0, 0, 0, 0, 0],\n",
       "       [0, 0, 0, 0, 1, 0, 0, 0, 0, 0],\n",
       "       [0, 0, 0, 0, 0, 1, 0, 0, 0, 1],\n",
       "       [0, 0, 0, 0, 0, 0, 0, 0, 1, 0]])"
      ]
     },
     "execution_count": 4,
     "metadata": {},
     "output_type": "execute_result"
    }
   ],
   "source": [
    "# adjacency Matrix\n",
    "\n",
    "Making the adjacency\n",
    "G_mat = np.array([[0, 1, 1, 1, 0, 1, 0, 0, 0, 0],\n",
    "                  [1, 0, 0, 1, 0, 0, 1, 0, 0, 0],\n",
    "                  [1, 0, 0, 0, 0, 0, 0, 0, 0, 0],\n",
    "                  [1, 1, 0, 0, 1, 0, 0, 0, 0, 0],\n",
    "                  [0, 0, 0, 1, 0, 1, 0, 1, 0, 0],\n",
    "                  [1, 0, 0, 0, 1, 0, 0, 0, 1, 0],\n",
    "                  [0, 1, 0, 0, 0, 0, 0, 0, 0, 0],\n",
    "                  [0, 0, 0, 0, 1, 0, 0, 0, 0, 0],\n",
    "                  [0, 0, 0, 0, 0, 1, 0, 0, 0, 1],\n",
    "                  [0, 0, 0, 0, 0, 0, 0, 0, 1, 0]])\n",
    "G_mat"
   ]
  }
 ],
 "metadata": {
  "kernelspec": {
   "display_name": "Python 3.10.5 64-bit",
   "language": "python",
   "name": "python3"
  },
  "language_info": {
   "codemirror_mode": {
    "name": "ipython",
    "version": 3
   },
   "file_extension": ".py",
   "mimetype": "text/x-python",
   "name": "python",
   "nbconvert_exporter": "python",
   "pygments_lexer": "ipython3",
   "version": "3.10.5"
  },
  "orig_nbformat": 4,
  "vscode": {
   "interpreter": {
    "hash": "0a348c401f686ac6eedac799f1fc1d06931a377189b613d8ca84ae595c5621b5"
   }
  }
 },
 "nbformat": 4,
 "nbformat_minor": 2
}
